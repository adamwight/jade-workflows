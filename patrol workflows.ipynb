{
 "cells": [
  {
   "cell_type": "markdown",
   "metadata": {},
   "source": [
    "This is a study of workflows used in patrolling, for me to learn about the job of patrolling, the tools of the trade and how they are used."
   ]
  },
  {
   "cell_type": "markdown",
   "metadata": {},
   "source": [
    "Generate a TSV of API actions during a time window:"
   ]
  },
  {
   "cell_type": "markdown",
   "metadata": {},
   "source": [
    "```sql\n",
    "SELECT\n",
    "  userAgent, wiki, params\n",
    "FROM\n",
    "  wmf_raw.ApiAction\n",
    "WHERE year = 2018\n",
    "  AND month = 6\n",
    "  AND day = 20\n",
    "  AND hadError = false\n",
    "  AND\n",
    "    (params['action'] = 'patrol')\n",
    ";\n",
    "```\n",
    "\n",
    "    beeline -f api_patrolling.sql > patrolling_WINDOW.tsv\n",
    "\n",
    "As you can see, this information is sensitive, so I won't upload it to source control:\n",
    "\n",
    "```\n",
    "useragent            wiki    params\n",
    "Mozilla/[redacted]   frwiki  {\"formatversion\":\"2\",\"format\":\"json\",\"action\":\"patrol\",\"rcid\":\"148019620\",\"token\":\"[redacted]\"}\n",
    "Mozilla/[redacted]   enwiki  {\"formatversion\":\"2\",\"format\":\"json\",\"action\":\"patrol\",\"rcid\":\"1064204306\",\"token\":\"[redacted]\"}\n",
    "```"
   ]
  },
  {
   "cell_type": "code",
   "execution_count": 1,
   "metadata": {},
   "outputs": [],
   "source": [
    "from collections import Counter\n",
    "import csv\n",
    "import json\n",
    "import re\n",
    "import yaml\n",
    "\n",
    "with open(\"config.yaml\") as f:\n",
    "    config = yaml.safe_load(f)\n",
    "\n",
    "ua_family_log = []\n",
    "target_type_log = []\n",
    "tags_log = []\n",
    "with open(\"patrolling_hour.tsv\", \"r\") as f:\n",
    "    api_actions = csv.DictReader(f, dialect='excel-tab')\n",
    "\n",
    "    for line in api_actions:\n",
    "        if line[\"params\"] is not None:\n",
    "            line[\"params\"] = json.loads(line[\"params\"])\n",
    "        else:\n",
    "            line[\"params\"] = {}\n",
    "\n",
    "        no_hits = True\n",
    "        \n",
    "        for rule in config[\"rules\"]:\n",
    "            hit = False\n",
    "            \n",
    "            if \"ua_re\" in rule:\n",
    "                if re.search(rule[\"ua_re\"], line[\"useragent\"]):\n",
    "                    hit = True\n",
    "            \n",
    "            if hit:\n",
    "                action = rule[\"action\"]\n",
    "                no_hits = False\n",
    "                if \"ua_family\" in action:\n",
    "                    ua_family_log.append(action[\"ua_family\"])\n",
    "        \n",
    "        if no_hits:\n",
    "            print(line)\n",
    "    \n",
    "        if \"revid\" in line[\"params\"]:\n",
    "            target_type_log.append(\"revision\")\n",
    "        elif \"rcid\" in line[\"params\"]:\n",
    "            target_type_log.append(\"recent change\")\n",
    "        \n",
    "        if \"tags\" in line[\"params\"]:\n",
    "            tags_log.append(line[\"params\"][\"tags\"])"
   ]
  },
  {
   "cell_type": "code",
   "execution_count": 2,
   "metadata": {},
   "outputs": [
    {
     "data": {
      "text/plain": [
       "[('browser', 11064),\n",
       " ('bot-patrol', 1111),\n",
       " ('bot-127', 186),\n",
       " ('tool-Twinkle', 80),\n",
       " ('bot-Dungodung', 30),\n",
       " ('bot-wm-antivandal-daemon', 5),\n",
       " ('tool-morebits', 5),\n",
       " ('bot-mooc', 2)]"
      ]
     },
     "execution_count": 2,
     "metadata": {},
     "output_type": "execute_result"
    }
   ],
   "source": [
    "counts = Counter(ua_family_log).most_common()\n",
    "\n",
    "counts"
   ]
  },
  {
   "cell_type": "code",
   "execution_count": 3,
   "metadata": {},
   "outputs": [
    {
     "data": {
      "image/png": "[encoded data removed]",
      "text/plain": [
       "<Figure size 432x288 with 1 Axes>"
      ]
     },
     "metadata": {},
     "output_type": "display_data"
    }
   ],
   "source": [
    "%matplotlib inline\n",
    "from matplotlib import pyplot as plt\n",
    "import numpy as np\n",
    "\n",
    "pos = np.arange(len(counts))\n",
    "counts.reverse()\n",
    "plt.barh(\n",
    "    pos,\n",
    "    [c[1] for c in counts],\n",
    "    tick_label=[c[0] for c in counts],\n",
    "    log=True\n",
    ")\n",
    "plt.show()"
   ]
  },
  {
   "cell_type": "code",
   "execution_count": 4,
   "metadata": {},
   "outputs": [
    {
     "data": {
      "text/plain": [
       "[('recent change', 10469), ('revision', 1929)]"
      ]
     },
     "execution_count": 4,
     "metadata": {},
     "output_type": "execute_result"
    }
   ],
   "source": [
    "counts = Counter(target_type_log).most_common()\n",
    "\n",
    "counts"
   ]
  },
  {
   "cell_type": "code",
   "execution_count": 5,
   "metadata": {},
   "outputs": [
    {
     "data": {
      "image/png": "[encoded data removed]",
      "text/plain": [
       "<Figure size 432x288 with 1 Axes>"
      ]
     },
     "metadata": {},
     "output_type": "display_data"
    }
   ],
   "source": [
    "pos = np.arange(len(counts))\n",
    "counts.reverse()\n",
    "plt.barh(\n",
    "    pos,\n",
    "    [c[1] for c in counts],\n",
    "    tick_label=[c[0] for c in counts],\n",
    ")\n",
    "plt.show()"
   ]
  },
  {
   "cell_type": "code",
   "execution_count": 6,
   "metadata": {},
   "outputs": [
    {
     "data": {
      "text/plain": [
       "[]"
      ]
     },
     "execution_count": 6,
     "metadata": {},
     "output_type": "execute_result"
    }
   ],
   "source": [
    "counts = Counter(tags_log).most_common()\n",
    "\n",
    "counts"
   ]
  },
  {
   "cell_type": "markdown",
   "metadata": {},
   "source": [
    "Nobody uses the `tags` parameter!  This is worth filing a bug to either remove it from the API, or publicize its existence."
   ]
  },
  {
   "cell_type": "markdown",
   "metadata": {},
   "source": [
    "Now, let's look at the raw requests for more clues.\n",
    "\n",
    "```sql\n",
    "SELECT\n",
    "  uri_query, uri_host, referer, user_agent, referer_class\n",
    "FROM\n",
    "  wmf.webrequest\n",
    "WHERE year = 2018\n",
    "  AND month = 6\n",
    "  AND day = 20\n",
    "  AND agent_type = 'user'\n",
    "  AND\n",
    "    parse_url(concat('http://foo/', uri_query), 'QUERY', 'action') = 'patrol'\n",
    ";\n",
    "```"
   ]
  },
  {
   "cell_type": "code",
   "execution_count": 15,
   "metadata": {},
   "outputs": [
    {
     "name": "stdout",
     "output_type": "stream",
     "text": [
      "-\n",
      "-\n"
     ]
    }
   ],
   "source": [
    "with open(\"patrolling_requests.tsv\", \"r\") as f:\n",
    "    requests = csv.DictReader(f, dialect='excel-tab')\n",
    "\n",
    "    referer_log = []\n",
    "    for line in requests:\n",
    "        if line[\"referer\"] is not None:\n",
    "            if re.search(\"Special(:|%3A)RecentChanges\", line[\"referer\"]):\n",
    "                referer_log.append(\"RecentChanges\")\n",
    "            elif re.search(\"Special(:|%3A)Contributions\", line[\"referer\"]):\n",
    "                referer_log.append(\"Contributions\")\n",
    "            elif re.search(\"Special(:|%3A)Watchlist\", line[\"referer\"]):\n",
    "                referer_log.append(\"Watchlist\")\n",
    "            elif re.search(\":LiveRC\", line[\"referer\"]):\n",
    "                referer_log.append(\"LiveRC\")\n",
    "            else:\n",
    "                print(line[\"referer\"])"
   ]
  },
  {
   "cell_type": "code",
   "execution_count": 16,
   "metadata": {},
   "outputs": [
    {
     "data": {
      "text/plain": [
       "[('Contributions', 164),\n",
       " ('RecentChanges', 104),\n",
       " ('LiveRC', 69),\n",
       " ('Watchlist', 11)]"
      ]
     },
     "execution_count": 16,
     "metadata": {},
     "output_type": "execute_result"
    }
   ],
   "source": [
    "counts = Counter(referer_log).most_common()\n",
    "\n",
    "counts"
   ]
  },
  {
   "cell_type": "code",
   "execution_count": 17,
   "metadata": {},
   "outputs": [
    {
     "data": {
      "image/png": "[encoded data removed]",
      "text/plain": [
       "<Figure size 432x288 with 1 Axes>"
      ]
     },
     "metadata": {},
     "output_type": "display_data"
    }
   ],
   "source": [
    "pos = np.arange(len(counts))\n",
    "counts.reverse()\n",
    "plt.barh(\n",
    "    pos,\n",
    "    [c[1] for c in counts],\n",
    "    tick_label=[c[0] for c in counts],\n",
    ")\n",
    "plt.show()"
   ]
  },
  {
   "cell_type": "code",
   "execution_count": null,
   "metadata": {},
   "outputs": [],
   "source": []
  }
 ],
 "metadata": {
  "kernelspec": {
   "display_name": "Python 3",
   "language": "python",
   "name": "python3"
  },
  "language_info": {
   "codemirror_mode": {
    "name": "ipython",
    "version": 3
   },
   "file_extension": ".py",
   "mimetype": "text/x-python",
   "name": "python",
   "nbconvert_exporter": "python",
   "pygments_lexer": "ipython3",
   "version": "3.5.3"
  }
 },
 "nbformat": 4,
 "nbformat_minor": 2
}
