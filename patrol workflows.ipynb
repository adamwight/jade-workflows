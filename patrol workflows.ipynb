{
 "cells": [
  {
   "cell_type": "markdown",
   "metadata": {},
   "source": [
    "This is a study of workflows used in patrolling, for me to learn about the job of patrolling, the tools of the trade and how they are used.\n",
    "\n",
    "## Prerequisites\n",
    "You'll need Wikimedia analytics server access to run the Hive queries.  I can't post the data publicly without a review, so it's not included in this draft."
   ]
  },
  {
   "cell_type": "markdown",
   "metadata": {},
   "source": [
    "## API logs\n",
    "\n",
    "Wikimedia keeps an archive of recently executed API commands, for a short time window.  These might have some signatures showing how patrollers are working.\n",
    "\n",
    "Generate a TSV of API actions during a time window:\n",
    "\n",
    "```sql\n",
    "SELECT\n",
    "  userAgent, wiki, params\n",
    "FROM\n",
    "  wmf_raw.ApiAction\n",
    "WHERE year = 2018\n",
    "  AND month = 6\n",
    "  AND day = 20\n",
    "  AND hadError = false\n",
    "  AND\n",
    "    (params['action'] = 'patrol')\n",
    ";\n",
    "```\n",
    "\n",
    "    beeline -f api_patrolling.sql > patrolling_WINDOW.tsv\n",
    "\n",
    "As you can see, this information is sensitive in its current form, so I won't upload it to source control:\n",
    "\n",
    "```\n",
    "useragent            wiki    params\n",
    "Mozilla/[redacted]   frwiki  {\"formatversion\":\"2\",\"format\":\"json\",\"action\":\"patrol\",\"rcid\":\"148019620\",\"token\":\"[redacted]\"}\n",
    "Mozilla/[redacted]   enwiki  {\"formatversion\":\"2\",\"format\":\"json\",\"action\":\"patrol\",\"rcid\":\"1064204306\",\"token\":\"[redacted]\"}\n",
    "```\n",
    "\n",
    "We'll read regexes and rules from a configuration file, and save transformed api log data to several streams:\n",
    "* User agents, coerced to a small number of mid-level families.\n",
    "* Whether the patrolling action is on a revision or a recent change.\n",
    "* Any change tags that are set.\n"
   ]
  },
  {
   "cell_type": "code",
   "execution_count": 37,
   "metadata": {},
   "outputs": [],
   "source": [
    "from collections import Counter\n",
    "import csv\n",
    "import json\n",
    "import re\n",
    "import yaml\n",
    "\n",
    "with open(\"config.yaml\") as f:\n",
    "    config = yaml.safe_load(f)"
   ]
  },
  {
   "cell_type": "code",
   "execution_count": 2,
   "metadata": {},
   "outputs": [],
   "source": [
    "ua_family_log = []\n",
    "target_type_log = []\n",
    "tags_log = []\n",
    "with open(\"patrolling_hour.tsv\", \"r\") as f:\n",
    "    api_actions = csv.DictReader(f, dialect='excel-tab')\n",
    "\n",
    "    for line in api_actions:\n",
    "        if line[\"params\"] is not None:\n",
    "            line[\"params\"] = json.loads(line[\"params\"])\n",
    "        else:\n",
    "            line[\"params\"] = {}\n",
    "\n",
    "        no_hits = True\n",
    "        \n",
    "        for rule in config[\"api_log\"][\"rules\"]:\n",
    "            hit = False\n",
    "            \n",
    "            if \"ua_re\" in rule:\n",
    "                if re.search(rule[\"ua_re\"], line[\"useragent\"]):\n",
    "                    hit = True\n",
    "            \n",
    "            if hit:\n",
    "                action = rule[\"action\"]\n",
    "                no_hits = False\n",
    "                if \"ua_family\" in action:\n",
    "                    ua_family_log.append(action[\"ua_family\"])\n",
    "        \n",
    "        if no_hits:\n",
    "            print(line)\n",
    "    \n",
    "        if \"revid\" in line[\"params\"]:\n",
    "            target_type_log.append(\"revision\")\n",
    "        elif \"rcid\" in line[\"params\"]:\n",
    "            target_type_log.append(\"recent change\")\n",
    "        \n",
    "        if \"tags\" in line[\"params\"]:\n",
    "            tags_log.append(line[\"params\"][\"tags\"])"
   ]
  },
  {
   "cell_type": "markdown",
   "metadata": {},
   "source": [
    "### User agent families"
   ]
  },
  {
   "cell_type": "code",
   "execution_count": 3,
   "metadata": {},
   "outputs": [
    {
     "data": {
      "text/plain": [
       "[('browser', 11064),\n",
       " ('bot-patrol', 1111),\n",
       " ('bot-127', 186),\n",
       " ('tool-Twinkle', 80),\n",
       " ('bot-Dungodung', 30),\n",
       " ('tool-morebits', 5),\n",
       " ('bot-wm-antivandal-daemon', 5),\n",
       " ('bot-mooc', 2)]"
      ]
     },
     "execution_count": 3,
     "metadata": {},
     "output_type": "execute_result"
    }
   ],
   "source": [
    "counts = Counter(ua_family_log).most_common()\n",
    "\n",
    "counts"
   ]
  },
  {
   "cell_type": "code",
   "execution_count": 4,
   "metadata": {},
   "outputs": [
    {
     "data": {
      "image/png": "[encoded data removed]",
      "text/plain": [
       "<Figure size 432x288 with 1 Axes>"
      ]
     },
     "metadata": {},
     "output_type": "display_data"
    }
   ],
   "source": [
    "%matplotlib inline\n",
    "from matplotlib import pyplot as plt\n",
    "import numpy as np\n",
    "\n",
    "pos = np.arange(len(counts))\n",
    "counts.reverse()\n",
    "plt.barh(\n",
    "    pos,\n",
    "    [c[1] for c in counts],\n",
    "    tick_label=[c[0] for c in counts],\n",
    "    log=True\n",
    ")\n",
    "plt.show()"
   ]
  },
  {
   "cell_type": "markdown",
   "metadata": {},
   "source": [
    "### Patrolling target"
   ]
  },
  {
   "cell_type": "code",
   "execution_count": 5,
   "metadata": {},
   "outputs": [
    {
     "data": {
      "text/plain": [
       "[('recent change', 10469), ('revision', 1929)]"
      ]
     },
     "execution_count": 5,
     "metadata": {},
     "output_type": "execute_result"
    }
   ],
   "source": [
    "counts = Counter(target_type_log).most_common()\n",
    "\n",
    "counts"
   ]
  },
  {
   "cell_type": "code",
   "execution_count": 6,
   "metadata": {},
   "outputs": [
    {
     "data": {
      "image/png": "[encoded data removed]",
      "text/plain": [
       "<Figure size 432x288 with 1 Axes>"
      ]
     },
     "metadata": {},
     "output_type": "display_data"
    }
   ],
   "source": [
    "pos = np.arange(len(counts))\n",
    "counts.reverse()\n",
    "plt.barh(\n",
    "    pos,\n",
    "    [c[1] for c in counts],\n",
    "    tick_label=[c[0] for c in counts],\n",
    ")\n",
    "plt.show()"
   ]
  },
  {
   "cell_type": "markdown",
   "metadata": {},
   "source": [
    "### Change tags"
   ]
  },
  {
   "cell_type": "code",
   "execution_count": 7,
   "metadata": {},
   "outputs": [
    {
     "data": {
      "text/plain": [
       "[]"
      ]
     },
     "execution_count": 7,
     "metadata": {},
     "output_type": "execute_result"
    }
   ],
   "source": [
    "counts = Counter(tags_log).most_common()\n",
    "\n",
    "counts"
   ]
  },
  {
   "cell_type": "markdown",
   "metadata": {},
   "source": [
    "Nobody uses the `tags` parameter!  This is worth filing a bug to either remove it from the API, or publicize its existence."
   ]
  },
  {
   "cell_type": "markdown",
   "metadata": {},
   "source": [
    "## Web request log\n",
    "\n",
    "Now, let's look at the raw requests for more clues.\n",
    "\n",
    "```sql\n",
    "SELECT\n",
    "  uri_query, uri_host, referer, user_agent, referer_class\n",
    "FROM\n",
    "  wmf.webrequest\n",
    "WHERE year = 2018\n",
    "  AND month = 6\n",
    "  AND day = 20\n",
    "  AND agent_type = 'user'\n",
    "  AND\n",
    "    parse_url(concat('http://foo/', uri_query), 'QUERY', 'action') = 'patrol'\n",
    ";\n",
    "```\n",
    "\n",
    "Dice it up."
   ]
  },
  {
   "cell_type": "code",
   "execution_count": 8,
   "metadata": {},
   "outputs": [],
   "source": [
    "with open(\"patrolling_requests.tsv\", \"r\") as f:\n",
    "    requests = csv.DictReader(f, dialect='excel-tab')\n",
    "\n",
    "    referer_log = []\n",
    "    for line in requests:\n",
    "        if line[\"referer\"] is not None:\n",
    "            known_referer = False\n",
    "            for rule in config[\"web_log\"][\"rules\"]:\n",
    "                if re.search(rule[\"referer_re\"], line[\"referer\"]):\n",
    "                    referer_log.append(rule[\"action\"][\"referer\"])\n",
    "                    known_referer = True\n",
    "                \n",
    "            if not known_referer:\n",
    "                print(line[\"referer\"])"
   ]
  },
  {
   "cell_type": "markdown",
   "metadata": {},
   "source": [
    "### Referrers"
   ]
  },
  {
   "cell_type": "code",
   "execution_count": 9,
   "metadata": {},
   "outputs": [
    {
     "data": {
      "text/plain": [
       "[('Contributions', 164),\n",
       " ('RecentChanges', 104),\n",
       " ('LiveRC', 69),\n",
       " ('Watchlist', 11),\n",
       " ('[garbage]', 2)]"
      ]
     },
     "execution_count": 9,
     "metadata": {},
     "output_type": "execute_result"
    }
   ],
   "source": [
    "counts = Counter(referer_log).most_common()\n",
    "\n",
    "counts"
   ]
  },
  {
   "cell_type": "code",
   "execution_count": 10,
   "metadata": {},
   "outputs": [
    {
     "data": {
      "image/png": "[encoded data removed]",
      "text/plain": [
       "<Figure size 432x288 with 1 Axes>"
      ]
     },
     "metadata": {},
     "output_type": "display_data"
    }
   ],
   "source": [
    "pos = np.arange(len(counts))\n",
    "counts.reverse()\n",
    "plt.barh(\n",
    "    pos,\n",
    "    [c[1] for c in counts],\n",
    "    tick_label=[c[0] for c in counts],\n",
    ")\n",
    "plt.show()"
   ]
  },
  {
   "cell_type": "markdown",
   "metadata": {},
   "source": [
    "Oops.  It turns out these might not be valid patrolling requests at all.  They all include `assert=user` and have browser user agent.  In fact, we're only interested in POST requests, which don't expose API parameters to the web log.\n",
    "\n",
    "## Engagement context\n",
    "\n",
    "What exactly are patrollers doing when we receive actions directly from the browser?  They could be clicking the native MediaWiki \"Mark as patrolled\" button, or using assistive JS gadgets, it doesn't seem to be possible to distinguish from an analysis of the POST request alone.\n",
    "\n",
    "Therefore, we'll try to survey gadget usage by joining the API and webrequest tables.\n",
    "\n",
    "```sql\n",
    "use wmf;\n",
    "set mapred.job.queue.name=nice;\n",
    "\n",
    "drop view awight_patroller_actions;\n",
    "create view awight_patroller_actions as\n",
    "select\n",
    "  userAgent, ip\n",
    "from\n",
    "  wmf_raw.ApiAction\n",
    "where year = 2018\n",
    "  and month = 6\n",
    "  and day = 23\n",
    "  and hour = 0\n",
    "  and hadError = false\n",
    "  and\n",
    "    (params['action'] = 'patrol')\n",
    "group by\n",
    "  -- Proxy for unique user\n",
    "  ip, userAgent\n",
    ";\n",
    "\n",
    "drop view awight_patroller_context;\n",
    "create view awight_patroller_context as\n",
    "select\n",
    "  dt, uri_host, uri_path, uri_query, ip, user_agent, http_method\n",
    "from\n",
    "  wmf.webrequest\n",
    "where year = 2018\n",
    "  and month = 6\n",
    "  and day = 23\n",
    "  and hour = 0\n",
    ";\n",
    "\n",
    "select\n",
    "  context.*\n",
    "from\n",
    "  awight_patroller_context as context\n",
    "join awight_patroller_actions as actions\n",
    "    on\n",
    "        actions.ip = context.ip\n",
    "        and actions.userAgent = context.user_agent;\n",
    "```"
   ]
  },
  {
   "cell_type": "code",
   "execution_count": 39,
   "metadata": {},
   "outputs": [],
   "source": [
    "from operator import itemgetter\n",
    "import itertools\n",
    "import urllib.parse\n",
    "\n",
    "# TODO: need to group by actor before iterating lines.\n",
    "\n",
    "with open(\"patrol_context.tsv\", \"r\") as f:\n",
    "    requests = list(csv.DictReader(f, dialect='excel-tab'))\n",
    "\n",
    "# Secondary sort on datetime\n",
    "requests = sorted(requests, key=itemgetter(\"context.dt\"))\n",
    "# Primary sort on user\n",
    "requests = sorted(requests, key=itemgetter(\"context.ip\", \"context.user_agent\"))\n",
    "\n",
    "# Group by user\n",
    "grouped_requests = itertools.groupby(requests, key=itemgetter(\"context.ip\", \"context.user_agent\"))\n",
    "user_timelines = []\n",
    "user_gadgets = []\n",
    "\n",
    "for _, user_requests in grouped_requests:\n",
    "    query_type_log = []\n",
    "    gadget_log = []\n",
    "    \n",
    "    for line in user_requests:\n",
    "        query_type = None\n",
    "\n",
    "        # Build abstract engagement timeline by applying rules to the web request.\n",
    "        for rule in config[\"gadgets\"][\"rules\"]:\n",
    "            hit_rule = False\n",
    "            if \"query_re\" in rule and re.search(rule[\"query_re\"], line[\"context.uri_query\"]):\n",
    "                hit_rule = True\n",
    "            elif \"path_re\" in rule and re.search(rule[\"path_re\"], line[\"context.uri_path\"]):\n",
    "                hit_rule = True\n",
    "            elif \"title_re\" in rule and (re.search(rule[\"title_re\"], line[\"context.uri_query\"]) or re.search(rule[\"title_re\"], line[\"context.uri_path\"])):\n",
    "                hit_rule = True\n",
    "\n",
    "            if hit_rule:\n",
    "                if \"ignore\" in rule[\"action\"]:\n",
    "                    break\n",
    "                    \n",
    "                if \"query_type\" in rule[\"action\"]:\n",
    "                    query_type = rule[\"action\"][\"query_type\"]\n",
    "        else:\n",
    "            # Normal line, not ignored.\n",
    "            if query_type is not None:\n",
    "                query_type_log.append(query_type)\n",
    "            #else:\n",
    "            #    print(line[\"context.uri_path\"], line[\"context.uri_query\"])\n",
    "        \n",
    "        # What custom JS is being loaded?\n",
    "        if re.search(\"ctype=text/javascript\", line[\"context.uri_query\"]):\n",
    "            params = urllib.parse.parse_qs(line[\"context.uri_query\"].lstrip(\"?\"))\n",
    "            gadget_log.append(params[\"title\"][0])\n",
    "            \n",
    "    user_timelines.append(query_type_log)\n",
    "    user_gadgets.append(set(gadget_log))"
   ]
  },
  {
   "cell_type": "code",
   "execution_count": 45,
   "metadata": {},
   "outputs": [
    {
     "data": {
      "text/plain": [
       "27"
      ]
     },
     "execution_count": 45,
     "metadata": {},
     "output_type": "execute_result"
    }
   ],
   "source": [
    "# How many unique users are in the sample?\n",
    "len(user_gadgets)"
   ]
  },
  {
   "cell_type": "code",
   "execution_count": 46,
   "metadata": {},
   "outputs": [
    {
     "data": {
      "text/plain": [
       "[('Load custom JS', 7305),\n",
       " ('User page', 5582),\n",
       " ('API request', 4643),\n",
       " ('Load ResourceLoader modules', 2845),\n",
       " ('RecentChanges', 953),\n",
       " ('Load custom CSS', 836),\n",
       " ('Perform search', 533),\n",
       " ('Watchlist', 347),\n",
       " ('Read likely policy page', 288),\n",
       " ('View diff page', 258),\n",
       " ('Read category page', 220),\n",
       " ('Read history page', 199),\n",
       " ('Edit page', 110),\n",
       " ('Contributions', 100),\n",
       " ('View talk page', 62),\n",
       " ('User talk page', 38),\n",
       " ('View abuse log', 16),\n",
       " ('Perform rollback', 15),\n",
       " ('View log', 14),\n",
       " ('NewPages', 9),\n",
       " ('View user info', 5),\n",
       " ('View user rights', 4),\n",
       " ('Abuse filter', 1)]"
      ]
     },
     "execution_count": 46,
     "metadata": {},
     "output_type": "execute_result"
    }
   ],
   "source": [
    "# We have timelines for each user's interaction, but for privacy reasons let's just count actions in aggregate.\n",
    "flattened_query_types = itertools.chain.from_iterable(user_timelines)\n",
    "counts = Counter(flattened_query_types).most_common()\n",
    "\n",
    "counts"
   ]
  },
  {
   "cell_type": "markdown",
   "metadata": {},
   "source": [
    "Okay, so what's in that custom JS?"
   ]
  },
  {
   "cell_type": "code",
   "execution_count": 42,
   "metadata": {},
   "outputs": [
    {
     "data": {
      "text/plain": [
       "[('MediaWiki:Gadget-HotCat.js/local_defaults', 14),\n",
       " ('MediaWiki:Gadget-HotCat.js', 13),\n",
       " ('MediaWiki:Wikiminiatlas.js', 12),\n",
       " ('MediaWiki:RefToolbar.js', 9),\n",
       " ('MediaWiki:RefToolbarConfig.js', 9),\n",
       " ('MediaWiki:Common.js/watchlist.js', 8),\n",
       " ('MediaWiki:InterProject.js', 7),\n",
       " ('MediaWiki:RefToolbarMessages-en.js', 7),\n",
       " ('User:Krinkle/RTRC.js', 6),\n",
       " ('MediaWiki:AjaxSubmit.js', 5),\n",
       " ('MediaWiki:TextCleaner.js', 5),\n",
       " ('MediaWiki:Tooltips.js', 5),\n",
       " ('MediaWiki:UIElements.js', 5),\n",
       " ('User:Cacycle/wikEdDiff.js', 5),\n",
       " ('MediaWiki:LAPI.js', 5),\n",
       " ('MediaWiki:ImageAnnotatorConfig.js', 5),\n",
       " ('MediaWiki:Gadget-popups.js', 5),\n",
       " ('MediaWiki:Gadget-UTCLiveClock.js', 5),\n",
       " ('User:Hoo_man/functions.js', 4),\n",
       " ('User:Cacycle/diff.js', 4),\n",
       " ('MediaWiki:Gadget-exlinks.js', 4),\n",
       " ('MediaWiki:AjaxTranslation.js', 4),\n",
       " ('MediaWiki:OSM.js', 4),\n",
       " ('MediaWiki:Gadget-ImageAnnotator.js', 4),\n",
       " ('MediaWiki:Gadget-fastbuttons.js/buttonsList.js', 4),\n",
       " ('MediaWiki:Gadget-refToolbarBase.js', 3),\n",
       " ('MediaWiki:Tabs.js', 3),\n",
       " ('MediaWiki:Wdsearch.js', 3),\n",
       " ('MediaWiki:Gadget-diffTools.js/buttonsList.js', 3),\n",
       " ('MediaWiki:Gadget-LanguageSelect.js', 3),\n",
       " ('MediaWiki:Gadget-HotCat.js/pt', 3),\n",
       " ('User:Hoo_man/tagger-core.js', 3),\n",
       " ('MediaWiki:Gadget-revisionjumper.js', 2),\n",
       " ('User:Gary/comments_in_local_time.js', 2),\n",
       " ('User:Zhaofeng_Li/Reflinks.js', 2),\n",
       " ('MediaWiki:PageCSS.js', 2),\n",
       " ('MediaWiki:Gadget-HotCat.js/sr', 2),\n",
       " ('User:He7d3r/Tools/APC.js', 2),\n",
       " ('XTools/ArticleInfo.js', 2),\n",
       " ('User:He7d3r/Tools/APC-Loader.js', 2),\n",
       " ('MediaWiki:Gadget-HotCat.js/nl', 2),\n",
       " ('MediaWiki:RefToolbarMessages-sr.js', 2),\n",
       " ('MediaWiki:Onlyifediting.js', 2),\n",
       " ('MediaWiki:Gadget-modrollback.js', 2),\n",
       " ('User:Krinkle/OpenStreetMapFrame.js', 2),\n",
       " ('User:Shubinator/DYKcheck.js', 2),\n",
       " ('MediaWiki:Ticker.js', 2)]"
      ]
     },
     "execution_count": 42,
     "metadata": {},
     "output_type": "execute_result"
    }
   ],
   "source": [
    "# Gadget requests were deduplicated for each user, to give us an idea of overall\n",
    "# usage without being skewed by differences in how active they are.\n",
    "flattened_gadgets = itertools.chain.from_iterable(user_gadgets)\n",
    "counts = Counter(flattened_gadgets).most_common()\n",
    "\n",
    "# Remove any gadgets loaded by less than two users, to respect privacy.\n",
    "counts = [c for c in counts if c[1] > 1]\n",
    "\n",
    "counts"
   ]
  },
  {
   "cell_type": "markdown",
   "metadata": {},
   "source": [
    "I'm starting to believe a note I found in [PageTriage](https://www.mediawiki.org/wiki/Page_Curation) documentation:\n",
    "\n",
    "> No two patrollers seem to utilize the same process.\n",
    "\n",
    "Even though we're looking at a tiny sample, it's clear that I failed to capture much of the patrolling workflow.  For example, nobody was using the NewPagesFeed.  Looking at the PageTriage code, it seems that anyone using this extension would be creating `logging` entries with `log_type=pagetriage-curation` rather than a patrol action.  Similarly, we haven't captured any of the FlaggedRevisions activity, which is similar enough that I believe it should be integrated with JADE.\n",
    "\n",
    "## PageTriage\n",
    "\n",
    "PageTriage is only enabled on English Wikipedia, but has an active user base there.  We can find activity traces in the logging table:\n",
    "\n",
    "    mysql enwiki -e \"select * from logging where log_type='pagetriage-curation' and log_timestamp between '20180620000000' and '20180621000000'\" > pagetriage_enwiki.tsv"
   ]
  },
  {
   "cell_type": "code",
   "execution_count": 47,
   "metadata": {},
   "outputs": [
    {
     "data": {
      "text/plain": [
       "51"
      ]
     },
     "execution_count": 47,
     "metadata": {},
     "output_type": "execute_result"
    }
   ],
   "source": [
    "with open(\"pagetriage_enwiki.tsv\", \"r\") as f:\n",
    "    logs = csv.DictReader(f, dialect='excel-tab')\n",
    "\n",
    "    unique_users = set()\n",
    "    action_log = []\n",
    "    \n",
    "    for line in logs:\n",
    "        unique_users.add(line[\"log_user\"])\n",
    "        action_log.append(line[\"log_action\"])\n",
    "\n",
    "len(unique_users)"
   ]
  },
  {
   "cell_type": "code",
   "execution_count": 48,
   "metadata": {},
   "outputs": [
    {
     "data": {
      "image/png": "[encoded data removed]",
      "text/plain": [
       "<Figure size 432x288 with 1 Axes>"
      ]
     },
     "metadata": {},
     "output_type": "display_data"
    }
   ],
   "source": [
    "counts = Counter(action_log).most_common()\n",
    "\n",
    "pos = np.arange(len(counts))\n",
    "counts.reverse()\n",
    "plt.barh(\n",
    "    pos,\n",
    "    [c[1] for c in counts],\n",
    "    tick_label=[c[0] for c in counts],\n",
    ")\n",
    "plt.show()"
   ]
  },
  {
   "cell_type": "markdown",
   "metadata": {},
   "source": [
    "Almost 1,200 actions in a single day—integrating JADE with PageTriage's \"Mark as reviewed\" feature would be productive.  [T198086](https://phabricator.wikimedia.org/T198086)\n",
    "\n",
    "## FlaggedRevs\n",
    "\n",
    "During the same 24-hour period, enwiki had 787 FlaggedRevs review actions although FR is only activated on a limited number of pages, and dewiki had 16,209 actions.  It's worth digging into the nature of these actions to see if they're relevant to JADE.\n",
    "\n",
    "    mysql dewiki -e \"select * from logging where log_type='review' and log_timestamp between '20180620000000' and '20180621000000'\" > flaggedrevs_dewiki.tsv"
   ]
  },
  {
   "cell_type": "code",
   "execution_count": 59,
   "metadata": {},
   "outputs": [
    {
     "data": {
      "text/plain": [
       "1690"
      ]
     },
     "execution_count": 59,
     "metadata": {},
     "output_type": "execute_result"
    }
   ],
   "source": [
    "with open(\"flaggedrevs_dewiki.tsv\", \"r\") as f:\n",
    "    logs = csv.DictReader(f, dialect='excel-tab')\n",
    "\n",
    "    unique_users = set()\n",
    "    action_log = []\n",
    "    \n",
    "    for line in logs:\n",
    "        unique_users.add(line[\"log_user\"])\n",
    "        # \"Automatic\" reviews should be ignored for our purposes,\n",
    "        # since they are algorithmically generated.\n",
    "        if not re.search(r\"-.?a$\", line[\"log_action\"]):\n",
    "            action_log.append(line[\"log_action\"])\n",
    "\n",
    "len(unique_users)"
   ]
  },
  {
   "cell_type": "code",
   "execution_count": 60,
   "metadata": {},
   "outputs": [
    {
     "data": {
      "image/png": "[encoded data removed]",
      "text/plain": [
       "<Figure size 432x288 with 1 Axes>"
      ]
     },
     "metadata": {},
     "output_type": "display_data"
    }
   ],
   "source": [
    "counts = Counter(action_log).most_common()\n",
    "\n",
    "pos = np.arange(len(counts))\n",
    "counts.reverse()\n",
    "plt.barh(\n",
    "    pos,\n",
    "    [c[1] for c in counts],\n",
    "    tick_label=[c[0] for c in counts],\n",
    ")\n",
    "plt.show()"
   ]
  },
  {
   "cell_type": "markdown",
   "metadata": {},
   "source": [
    "Good stuff that we should integrate!  [T198090](https://phabricator.wikimedia.org/T198090)"
   ]
  },
  {
   "cell_type": "code",
   "execution_count": null,
   "metadata": {},
   "outputs": [],
   "source": []
  }
 ],
 "metadata": {
  "kernelspec": {
   "display_name": "Python 3",
   "language": "python",
   "name": "python3"
  },
  "language_info": {
   "codemirror_mode": {
    "name": "ipython",
    "version": 3
   },
   "file_extension": ".py",
   "mimetype": "text/x-python",
   "name": "python",
   "nbconvert_exporter": "python",
   "pygments_lexer": "ipython3",
   "version": "3.5.3"
  }
 },
 "nbformat": 4,
 "nbformat_minor": 2
}
